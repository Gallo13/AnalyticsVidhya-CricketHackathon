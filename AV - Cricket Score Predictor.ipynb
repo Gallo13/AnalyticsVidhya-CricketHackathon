{
 "cells": [
  {
   "cell_type": "code",
   "execution_count": 1,
   "id": "924bad9b",
   "metadata": {},
   "outputs": [],
   "source": [
    "# Created by: Jess Gallo\n",
    "# Date created: 10/02/23\n",
    "# Last Modified: 10/02/23\n",
    "# Analytics Vidhya: The Sledge Hack: India vs Australia Cricket Hackathon"
   ]
  },
  {
   "cell_type": "markdown",
   "id": "19ed9c57",
   "metadata": {},
   "source": [
    "Are you a cricket and data science fan?\n",
    "\n",
    "Welcome to The Sledge Hack - Experience the World's Biggest Cricket Hackathon before the upcoming epic clash between India and Australia at the ICC World Cup on Oct 8, 2023. It's a celebration of cricket passion and data science wizardry – a must for every cricket fan and data enthusiast!\n",
    "\n",
    "This hackathon is a tribute to the spirit of cricket and data science enthusiasts. Join us in the pre-World Cup cricket celebration and send your best wishes to Team India on their World Cup journey! \n",
    "\n",
    "\n",
    "Problem Statement\n",
    "\n",
    "Your task is to make precise predictions regarding the runs scored and wickets taken by each player who has been carefully selected to represent their respective teams, India and Australia 15 members squad in the highly anticipated ICC World Cup 2023 clash on Oct 8, 2023.\n",
    "\n",
    "To accomplish this, you will need to use data science models and techniques based upon extensive historical data encompassing both player and team performance, allowing you to offer well-informed predictions.\n",
    "\n",
    "\n",
    "About the Dataset\n",
    "\n",
    "We have provided with you a dataset containing the batting and bowling statistics of the 30 players selected for the ICC World Cup 2023 of both teams India and Australia. The dataset contains the batting and bowling stats of each ODI played by the cricketer throughout his career.\n",
    "\n",
    "Column          Description\n",
    "\n",
    "player_id       Unique identifier of a player\n",
    "player_name     Name of the player\n",
    "runs_scored     No. of runs scored by the player in the match\n",
    "wickets         Wickets taken by the player in the match\n",
    "runs_conceded   No. of runs conceded by the player\n",
    "catches         No. of catches taken by the player\n",
    "stumpings       No. of stumpings done by the player\n",
    "match_date      Date of the match\n",
    "opposition      Opponent team name and Ground \n",
    "match_id        Unique identifier of the match\n",
    "\n",
    "\n",
    "Important: Feel free to use any open source dataset or external dataset for the hackathon.\n",
    "\n",
    "You will need to predict the runs scored and wickets taken by these 30 players in the upcoming clash between India and Australia on Oct 8, 2023.\n",
    "\n",
    "\n",
    "Sample Submission File\n",
    "\n",
    "You need to submit the solution file similar to the sample submission file. The solution file must contain the format similar to the sample submission file given below. \n",
    "\n",
    "Column          Description\n",
    "\n",
    "player_id       Unique identifier of the player\n",
    "runs            No. of runs scored by the player\n",
    "wickets         No. of wickets taken by the player\n",
    "\n",
    "\n",
    "\n",
    "Evaluation metric\n",
    "\n",
    "Your actual score will be generated only after the clash between India and Australia on Oct 8, 2023 comes to an end.\n",
    "\n",
    "Your solution file will be evaluated against the actual runs and wickets taken by the player in the match and final score is the weighted average of the RMSE is calculated between the predictions and actual runs scored and wickets taken by the players.\n",
    "\n",
    "At the moment, the leaderboard displays scores calculated in comparison to the benchmark model. This provides a useful reference for enhancing the model. However, it's important to note that the final score, determined based on player statistics after the match, may vary significantly. \n",
    "\n",
    "The final leaderboard is displayed after the clash between India and Australia on Oct 8, 2023."
   ]
  },
  {
   "cell_type": "code",
   "execution_count": 2,
   "id": "e5e9de2c",
   "metadata": {},
   "outputs": [],
   "source": [
    "# Libraries\n",
    "import pandas as pd\n",
    "import numpy as np"
   ]
  },
  {
   "cell_type": "markdown",
   "id": "05a20453",
   "metadata": {},
   "source": [
    "Data Gathering"
   ]
  },
  {
   "cell_type": "code",
   "execution_count": 3,
   "id": "32bcdb8c",
   "metadata": {},
   "outputs": [],
   "source": [
    "df = pd.read_csv('C://Users//Gallo//Downloads//data_zpyYWs0.csv')"
   ]
  },
  {
   "cell_type": "code",
   "execution_count": 4,
   "id": "3420a962",
   "metadata": {},
   "outputs": [
    {
     "data": {
      "text/html": [
       "<div>\n",
       "<style scoped>\n",
       "    .dataframe tbody tr th:only-of-type {\n",
       "        vertical-align: middle;\n",
       "    }\n",
       "\n",
       "    .dataframe tbody tr th {\n",
       "        vertical-align: top;\n",
       "    }\n",
       "\n",
       "    .dataframe thead th {\n",
       "        text-align: right;\n",
       "    }\n",
       "</style>\n",
       "<table border=\"1\" class=\"dataframe\">\n",
       "  <thead>\n",
       "    <tr style=\"text-align: right;\">\n",
       "      <th></th>\n",
       "      <th>player_id</th>\n",
       "      <th>player_name</th>\n",
       "      <th>runs_scored</th>\n",
       "      <th>wickets</th>\n",
       "      <th>runs_conceded</th>\n",
       "      <th>catches</th>\n",
       "      <th>stumpings</th>\n",
       "      <th>match_date</th>\n",
       "      <th>opposition</th>\n",
       "      <th>match_id</th>\n",
       "    </tr>\n",
       "  </thead>\n",
       "  <tbody>\n",
       "    <tr>\n",
       "      <th>0</th>\n",
       "      <td>1</td>\n",
       "      <td>Pat Cummins</td>\n",
       "      <td>DNB</td>\n",
       "      <td>3</td>\n",
       "      <td>28</td>\n",
       "      <td>0</td>\n",
       "      <td>0</td>\n",
       "      <td>19 Oct 2011</td>\n",
       "      <td>v South Africa Centurion</td>\n",
       "      <td>1</td>\n",
       "    </tr>\n",
       "    <tr>\n",
       "      <th>1</th>\n",
       "      <td>2</td>\n",
       "      <td>Steve Smith</td>\n",
       "      <td>DNB</td>\n",
       "      <td>-</td>\n",
       "      <td>-</td>\n",
       "      <td>0</td>\n",
       "      <td>0</td>\n",
       "      <td>19 Oct 2011</td>\n",
       "      <td>v South Africa Centurion</td>\n",
       "      <td>1</td>\n",
       "    </tr>\n",
       "    <tr>\n",
       "      <th>2</th>\n",
       "      <td>10</td>\n",
       "      <td>Mitch Marsh</td>\n",
       "      <td>8*</td>\n",
       "      <td>1</td>\n",
       "      <td>19</td>\n",
       "      <td>1</td>\n",
       "      <td>0</td>\n",
       "      <td>19 Oct 2011</td>\n",
       "      <td>v South Africa Centurion</td>\n",
       "      <td>1</td>\n",
       "    </tr>\n",
       "    <tr>\n",
       "      <th>3</th>\n",
       "      <td>13</td>\n",
       "      <td>David Warner</td>\n",
       "      <td>20</td>\n",
       "      <td>-</td>\n",
       "      <td>-</td>\n",
       "      <td>0</td>\n",
       "      <td>0</td>\n",
       "      <td>19 Oct 2011</td>\n",
       "      <td>v South Africa Centurion</td>\n",
       "      <td>1</td>\n",
       "    </tr>\n",
       "    <tr>\n",
       "      <th>4</th>\n",
       "      <td>1</td>\n",
       "      <td>Pat Cummins</td>\n",
       "      <td>11*</td>\n",
       "      <td>1</td>\n",
       "      <td>73</td>\n",
       "      <td>0</td>\n",
       "      <td>0</td>\n",
       "      <td>23 Oct 2011</td>\n",
       "      <td>v South Africa Gqeberha</td>\n",
       "      <td>2</td>\n",
       "    </tr>\n",
       "    <tr>\n",
       "      <th>5</th>\n",
       "      <td>2</td>\n",
       "      <td>Steve Smith</td>\n",
       "      <td>26</td>\n",
       "      <td>1</td>\n",
       "      <td>24</td>\n",
       "      <td>1</td>\n",
       "      <td>0</td>\n",
       "      <td>23 Oct 2011</td>\n",
       "      <td>v South Africa Gqeberha</td>\n",
       "      <td>2</td>\n",
       "    </tr>\n",
       "    <tr>\n",
       "      <th>6</th>\n",
       "      <td>13</td>\n",
       "      <td>David Warner</td>\n",
       "      <td>74</td>\n",
       "      <td>-</td>\n",
       "      <td>-</td>\n",
       "      <td>0</td>\n",
       "      <td>0</td>\n",
       "      <td>23 Oct 2011</td>\n",
       "      <td>v South Africa Gqeberha</td>\n",
       "      <td>2</td>\n",
       "    </tr>\n",
       "    <tr>\n",
       "      <th>7</th>\n",
       "      <td>1</td>\n",
       "      <td>Pat Cummins</td>\n",
       "      <td>6*</td>\n",
       "      <td>1</td>\n",
       "      <td>49</td>\n",
       "      <td>0</td>\n",
       "      <td>0</td>\n",
       "      <td>28 Oct 2011</td>\n",
       "      <td>v South Africa Durban</td>\n",
       "      <td>3</td>\n",
       "    </tr>\n",
       "    <tr>\n",
       "      <th>8</th>\n",
       "      <td>13</td>\n",
       "      <td>David Warner</td>\n",
       "      <td>10</td>\n",
       "      <td>-</td>\n",
       "      <td>-</td>\n",
       "      <td>1</td>\n",
       "      <td>0</td>\n",
       "      <td>28 Oct 2011</td>\n",
       "      <td>v South Africa Durban</td>\n",
       "      <td>3</td>\n",
       "    </tr>\n",
       "    <tr>\n",
       "      <th>9</th>\n",
       "      <td>1</td>\n",
       "      <td>Pat Cummins</td>\n",
       "      <td>TDNB</td>\n",
       "      <td>1</td>\n",
       "      <td>11</td>\n",
       "      <td>0</td>\n",
       "      <td>0</td>\n",
       "      <td>23 Jun 2012</td>\n",
       "      <td>v Ireland Belfast</td>\n",
       "      <td>4</td>\n",
       "    </tr>\n",
       "  </tbody>\n",
       "</table>\n",
       "</div>"
      ],
      "text/plain": [
       "   player_id   player_name runs_scored wickets runs_conceded catches  \\\n",
       "0          1   Pat Cummins         DNB       3            28       0   \n",
       "1          2   Steve Smith         DNB       -             -       0   \n",
       "2         10   Mitch Marsh          8*       1            19       1   \n",
       "3         13  David Warner          20       -             -       0   \n",
       "4          1   Pat Cummins         11*       1            73       0   \n",
       "5          2   Steve Smith          26       1            24       1   \n",
       "6         13  David Warner          74       -             -       0   \n",
       "7          1   Pat Cummins          6*       1            49       0   \n",
       "8         13  David Warner          10       -             -       1   \n",
       "9          1   Pat Cummins        TDNB       1            11       0   \n",
       "\n",
       "  stumpings   match_date                opposition  match_id  \n",
       "0         0  19 Oct 2011  v South Africa Centurion         1  \n",
       "1         0  19 Oct 2011  v South Africa Centurion         1  \n",
       "2         0  19 Oct 2011  v South Africa Centurion         1  \n",
       "3         0  19 Oct 2011  v South Africa Centurion         1  \n",
       "4         0  23 Oct 2011   v South Africa Gqeberha         2  \n",
       "5         0  23 Oct 2011   v South Africa Gqeberha         2  \n",
       "6         0  23 Oct 2011   v South Africa Gqeberha         2  \n",
       "7         0  28 Oct 2011     v South Africa Durban         3  \n",
       "8         0  28 Oct 2011     v South Africa Durban         3  \n",
       "9         0  23 Jun 2012         v Ireland Belfast         4  "
      ]
     },
     "execution_count": 4,
     "metadata": {},
     "output_type": "execute_result"
    }
   ],
   "source": [
    "df.head(10)"
   ]
  },
  {
   "cell_type": "markdown",
   "id": "d0fd47ea",
   "metadata": {},
   "source": [
    "EDA"
   ]
  },
  {
   "cell_type": "code",
   "execution_count": 5,
   "id": "84b104a0",
   "metadata": {},
   "outputs": [
    {
     "data": {
      "text/plain": [
       "(2575, 10)"
      ]
     },
     "execution_count": 5,
     "metadata": {},
     "output_type": "execute_result"
    }
   ],
   "source": [
    "df.shape"
   ]
  },
  {
   "cell_type": "code",
   "execution_count": 6,
   "id": "7a982cc5",
   "metadata": {},
   "outputs": [
    {
     "name": "stdout",
     "output_type": "stream",
     "text": [
      "<class 'pandas.core.frame.DataFrame'>\n",
      "RangeIndex: 2575 entries, 0 to 2574\n",
      "Data columns (total 10 columns):\n",
      " #   Column         Non-Null Count  Dtype \n",
      "---  ------         --------------  ----- \n",
      " 0   player_id      2575 non-null   int64 \n",
      " 1   player_name    2575 non-null   object\n",
      " 2   runs_scored    2575 non-null   object\n",
      " 3   wickets        2575 non-null   object\n",
      " 4   runs_conceded  2575 non-null   object\n",
      " 5   catches        2575 non-null   object\n",
      " 6   stumpings      2575 non-null   object\n",
      " 7   match_date     2575 non-null   object\n",
      " 8   opposition     2575 non-null   object\n",
      " 9   match_id       2575 non-null   int64 \n",
      "dtypes: int64(2), object(8)\n",
      "memory usage: 201.3+ KB\n"
     ]
    }
   ],
   "source": [
    "df.info()"
   ]
  },
  {
   "cell_type": "code",
   "execution_count": 7,
   "id": "d68bf4e0",
   "metadata": {},
   "outputs": [
    {
     "data": {
      "text/plain": [
       "player_id        False\n",
       "player_name      False\n",
       "runs_scored      False\n",
       "wickets          False\n",
       "runs_conceded    False\n",
       "catches          False\n",
       "stumpings        False\n",
       "match_date       False\n",
       "opposition       False\n",
       "match_id         False\n",
       "dtype: bool"
      ]
     },
     "execution_count": 7,
     "metadata": {},
     "output_type": "execute_result"
    }
   ],
   "source": [
    "# Checking to see if any columns have missing data\n",
    "df.isnull().any()"
   ]
  },
  {
   "cell_type": "code",
   "execution_count": 8,
   "id": "3a5b1afc",
   "metadata": {},
   "outputs": [
    {
     "data": {
      "text/html": [
       "<div>\n",
       "<style scoped>\n",
       "    .dataframe tbody tr th:only-of-type {\n",
       "        vertical-align: middle;\n",
       "    }\n",
       "\n",
       "    .dataframe tbody tr th {\n",
       "        vertical-align: top;\n",
       "    }\n",
       "\n",
       "    .dataframe thead th {\n",
       "        text-align: right;\n",
       "    }\n",
       "</style>\n",
       "<table border=\"1\" class=\"dataframe\">\n",
       "  <thead>\n",
       "    <tr style=\"text-align: right;\">\n",
       "      <th></th>\n",
       "      <th>player_id</th>\n",
       "      <th>match_id</th>\n",
       "    </tr>\n",
       "  </thead>\n",
       "  <tbody>\n",
       "    <tr>\n",
       "      <th>count</th>\n",
       "      <td>2575.000000</td>\n",
       "      <td>2575.000000</td>\n",
       "    </tr>\n",
       "    <tr>\n",
       "      <th>mean</th>\n",
       "      <td>15.926214</td>\n",
       "      <td>248.114951</td>\n",
       "    </tr>\n",
       "    <tr>\n",
       "      <th>std</th>\n",
       "      <td>7.663574</td>\n",
       "      <td>168.410523</td>\n",
       "    </tr>\n",
       "    <tr>\n",
       "      <th>min</th>\n",
       "      <td>1.000000</td>\n",
       "      <td>1.000000</td>\n",
       "    </tr>\n",
       "    <tr>\n",
       "      <th>25%</th>\n",
       "      <td>11.000000</td>\n",
       "      <td>77.000000</td>\n",
       "    </tr>\n",
       "    <tr>\n",
       "      <th>50%</th>\n",
       "      <td>16.000000</td>\n",
       "      <td>204.000000</td>\n",
       "    </tr>\n",
       "    <tr>\n",
       "      <th>75%</th>\n",
       "      <td>22.000000</td>\n",
       "      <td>411.000000</td>\n",
       "    </tr>\n",
       "    <tr>\n",
       "      <th>max</th>\n",
       "      <td>30.000000</td>\n",
       "      <td>557.000000</td>\n",
       "    </tr>\n",
       "  </tbody>\n",
       "</table>\n",
       "</div>"
      ],
      "text/plain": [
       "         player_id     match_id\n",
       "count  2575.000000  2575.000000\n",
       "mean     15.926214   248.114951\n",
       "std       7.663574   168.410523\n",
       "min       1.000000     1.000000\n",
       "25%      11.000000    77.000000\n",
       "50%      16.000000   204.000000\n",
       "75%      22.000000   411.000000\n",
       "max      30.000000   557.000000"
      ]
     },
     "execution_count": 8,
     "metadata": {},
     "output_type": "execute_result"
    }
   ],
   "source": [
    "df.describe()"
   ]
  },
  {
   "cell_type": "markdown",
   "id": "1560e73f",
   "metadata": {},
   "source": [
    "Data Cleaning & Preparation"
   ]
  },
  {
   "cell_type": "code",
   "execution_count": 9,
   "id": "6d118779",
   "metadata": {},
   "outputs": [],
   "source": [
    "# Changing match_date column to datetime instead of object\n",
    "df['match_date'] = pd.to_datetime(df['match_date'])"
   ]
  },
  {
   "cell_type": "code",
   "execution_count": 10,
   "id": "43dcc242",
   "metadata": {},
   "outputs": [
    {
     "data": {
      "text/plain": [
       "array(['DNB', '8*', '20', '11*', '26', '74', '6*', '10', 'TDNB', '4', '8',\n",
       "       '56', '1*', '104', '2', '0', '67', '7', '21', '37', '127', '0*',\n",
       "       '47', '24', '138', '9', '2*', '14*', '102*', '7*', '1', '34',\n",
       "       '21*', '11', '84', '44', '40*', '15', '59', '70', '64', '49', '5',\n",
       "       '25', '13', '17', '85', '12', '164', '52', '72', '57', '76*',\n",
       "       '119', '156', '39', '60', '29', '23', '16', '3', '108*', '23*',\n",
       "       '35', '51', '78', '130', '128', '179', '6', '36', '146*', '27',\n",
       "       '53', '42', '29*', '18', '22*', '71*', '5*', '28', '83', '14',\n",
       "       '62*', '92', '10*', '63', '27*', '71', '15*', '124', '65', '41',\n",
       "       '46', '125', '50', '45', '55', '96', '32', '33', '22', '36*', '40',\n",
       "       '116', '31*', '123', '95', '25*', '4*', '89*', '73', '19', '69',\n",
       "       '55*', '48', '82', '107', '46*', '17*', '166', '38', '38*', '122',\n",
       "       '128*', '98', '80', '20*', '131', '54', '89', '44*', '76', '3*',\n",
       "       '9*', '77', '43', '19*', '106', '108', '105', '90', '63*', '80*',\n",
       "       '30', '99', '45*', '31', '86', '12*', '152', '58*', '81', '18*',\n",
       "       '118', '24*', '93', '86*', '101', '73*', '66', '88', '178', '102',\n",
       "       '56*', '149', '171*', '91', '26*', '117', '69*', '52*', '109',\n",
       "       '79*', '58', '59*', '173', '87', '92*', '66*', '48*', '32*', '47*',\n",
       "       '94', '13*', '61', '42*', '75*', '51*', '72*', '133', '70*', '62',\n",
       "       '141*', '100*', '68', '79', '115*', '209', '163', '100', '39*',\n",
       "       '60*', '43*', '114', '61*', '101*', '87*', '68*', '90*', '30*',\n",
       "       '183', '33*', '49*', '115', '64*', '136', '264', '139*', '57*',\n",
       "       '16*', '137', '150', '85*', '154*', '81*', '123*', '96*', '82*',\n",
       "       '124*', '110*', '121', '147', '113', '208*', '112', '160*', '75',\n",
       "       '129*', '137*', '83*', '111*', '152*', '140', '157*', '162',\n",
       "       '122*', '103', '34*', '111', '120', '114*', '159', '166*', '208',\n",
       "       '74*', '67*', '98*', '113*', '28*', '112*', '133*', '77*', '88*',\n",
       "       '50*', '210'], dtype=object)"
      ]
     },
     "execution_count": 10,
     "metadata": {},
     "output_type": "execute_result"
    }
   ],
   "source": [
    "# Checking all the unique data in the runs_scored column\n",
    "df['runs_scored'].unique()"
   ]
  },
  {
   "cell_type": "code",
   "execution_count": 12,
   "id": "296373f6",
   "metadata": {},
   "outputs": [
    {
     "data": {
      "text/plain": [
       "array(['      ', '8 ', '20', '11 ', '26', '74', '6 ', '10', '       ',\n",
       "       '4', '8', '56', '1 ', '104', '2', '0', '67', '7', '21', '37',\n",
       "       '127', '0 ', '47', '24', '138', '9', '2 ', '14 ', '102 ', '7 ',\n",
       "       '1', '34', '21 ', '11', '84', '44', '40 ', '15', '59', '70', '64',\n",
       "       '49', '5', '25', '13', '17', '85', '12', '164', '52', '72', '57',\n",
       "       '76 ', '119', '156', '39', '60', '29', '23', '16', '3', '108 ',\n",
       "       '23 ', '35', '51', '78', '130', '128', '179', '6', '36', '146 ',\n",
       "       '27', '53', '42', '29 ', '18', '22 ', '71 ', '5 ', '28', '83',\n",
       "       '14', '62 ', '92', '10 ', '63', '27 ', '71', '15 ', '124', '65',\n",
       "       '41', '46', '125', '50', '45', '55', '96', '32', '33', '22', '36 ',\n",
       "       '40', '116', '31 ', '123', '95', '25 ', '4 ', '89 ', '73', '19',\n",
       "       '69', '55 ', '48', '82', '107', '46 ', '17 ', '166', '38', '38 ',\n",
       "       '122', '128 ', '98', '80', '20 ', '131', '54', '89', '44 ', '76',\n",
       "       '3 ', '9 ', '77', '43', '19 ', '106', '108', '105', '90', '63 ',\n",
       "       '80 ', '30', '99', '45 ', '31', '86', '12 ', '152', '58 ', '81',\n",
       "       '18 ', '118', '24 ', '93', '86 ', '101', '73 ', '66', '88', '178',\n",
       "       '102', '56 ', '149', '171 ', '91', '26 ', '117', '69 ', '52 ',\n",
       "       '109', '79 ', '58', '59 ', '173', '87', '92 ', '66 ', '48 ', '32 ',\n",
       "       '47 ', '94', '13 ', '61', '42 ', '75 ', '51 ', '72 ', '133', '70 ',\n",
       "       '62', '141 ', '100 ', '68', '79', '115 ', '209', '163', '100',\n",
       "       '39 ', '60 ', '43 ', '114', '61 ', '101 ', '87 ', '68 ', '90 ',\n",
       "       '30 ', '183', '33 ', '49 ', '115', '64 ', '136', '264', '139 ',\n",
       "       '57 ', '16 ', '137', '150', '85 ', '154 ', '81 ', '123 ', '96 ',\n",
       "       '82 ', '124 ', '110 ', '121', '147', '113', '208 ', '112', '160 ',\n",
       "       '75', '129 ', '137 ', '83 ', '111 ', '152 ', '140', '157 ', '162',\n",
       "       '122 ', '103', '34 ', '111', '120', '114 ', '159', '166 ', '208',\n",
       "       '74 ', '67 ', '98 ', '113 ', '28 ', '112 ', '133 ', '77 ', '88 ',\n",
       "       '50 ', '210'], dtype=object)"
      ]
     },
     "execution_count": 12,
     "metadata": {},
     "output_type": "execute_result"
    }
   ],
   "source": [
    "# Taking out the data with DNB and TDNB with nothing\n",
    "df['runs_scored'] = df['runs_scored'].str.replace('DNB', 'np.nan', regex=True)\n",
    "df['runs_scored'] = df['runs_scored'].str.replace('TDNB','np.nan', regex=True)\n",
    "# Taking out the data with * after the numbers\n",
    "df['runs_scored'] = df['runs_scored'].str.replace(r'\\D',' ', regex=True)\n",
    "df['runs_scored'].unique()"
   ]
  },
  {
   "cell_type": "code",
   "execution_count": null,
   "id": "38803d8d",
   "metadata": {},
   "outputs": [],
   "source": [
    "# Checking to see the unique data\n",
    "df['wickets'].unique()"
   ]
  },
  {
   "cell_type": "code",
   "execution_count": null,
   "id": "d4992b0c",
   "metadata": {},
   "outputs": [],
   "source": [
    "# Replacing - data with nothing\n",
    "df['wickets'] = df['wickets'].str.replace('-','NaN', regex=True)\n",
    "df['wickets'].unique()"
   ]
  },
  {
   "cell_type": "code",
   "execution_count": null,
   "id": "639b6d30",
   "metadata": {},
   "outputs": [],
   "source": [
    "df['catches'].unique()"
   ]
  },
  {
   "cell_type": "code",
   "execution_count": null,
   "id": "d594e10d",
   "metadata": {},
   "outputs": [],
   "source": [
    "# Replacing - data with nothing\n",
    "df['catches'] = df['catches'].str.replace('-','NaN', regex=True)\n",
    "df['catches'].unique()"
   ]
  },
  {
   "cell_type": "code",
   "execution_count": null,
   "id": "0e5ab41d",
   "metadata": {},
   "outputs": [],
   "source": [
    "df['stumpings'].unique()"
   ]
  },
  {
   "cell_type": "code",
   "execution_count": null,
   "id": "3a896ada",
   "metadata": {},
   "outputs": [],
   "source": [
    "# Replacing - data with nothing\n",
    "df['stumpings'] = df['stumpings'].str.replace('-','NaN', regex=True)\n",
    "df['stumpings'].unique()"
   ]
  },
  {
   "cell_type": "code",
   "execution_count": 13,
   "id": "6f2f662d",
   "metadata": {},
   "outputs": [
    {
     "data": {
      "text/plain": [
       "player_id        False\n",
       "player_name      False\n",
       "runs_scored      False\n",
       "wickets          False\n",
       "runs_conceded    False\n",
       "catches          False\n",
       "stumpings        False\n",
       "match_date       False\n",
       "opposition       False\n",
       "match_id         False\n",
       "dtype: bool"
      ]
     },
     "execution_count": 13,
     "metadata": {},
     "output_type": "execute_result"
    }
   ],
   "source": [
    "df.isnull().any()"
   ]
  },
  {
   "cell_type": "markdown",
   "id": "801cba55",
   "metadata": {},
   "source": [
    "Model Development"
   ]
  },
  {
   "cell_type": "code",
   "execution_count": null,
   "id": "a75f7038",
   "metadata": {},
   "outputs": [],
   "source": []
  },
  {
   "cell_type": "code",
   "execution_count": null,
   "id": "64d4f10c",
   "metadata": {},
   "outputs": [],
   "source": []
  },
  {
   "cell_type": "code",
   "execution_count": null,
   "id": "6378c568",
   "metadata": {},
   "outputs": [],
   "source": []
  },
  {
   "cell_type": "code",
   "execution_count": null,
   "id": "67af622b",
   "metadata": {},
   "outputs": [],
   "source": []
  }
 ],
 "metadata": {
  "kernelspec": {
   "display_name": "GPUenv",
   "language": "python",
   "name": "gpuenv"
  },
  "language_info": {
   "codemirror_mode": {
    "name": "ipython",
    "version": 3
   },
   "file_extension": ".py",
   "mimetype": "text/x-python",
   "name": "python",
   "nbconvert_exporter": "python",
   "pygments_lexer": "ipython3",
   "version": "3.8.11"
  }
 },
 "nbformat": 4,
 "nbformat_minor": 5
}
