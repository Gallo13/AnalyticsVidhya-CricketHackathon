{
 "cells": [
  {
   "cell_type": "code",
   "execution_count": null,
   "id": "924bad9b",
   "metadata": {},
   "outputs": [],
   "source": [
    "# Created by: Jess Gallo\n",
    "# Date created: 10/02/23\n",
    "# Last Modified: 10/06/23\n",
    "# Analytics Vidhya: The Sledge Hack: India vs Australia Cricket Hackathon"
   ]
  },
  {
   "cell_type": "markdown",
   "id": "19ed9c57",
   "metadata": {},
   "source": [
    "Are you a cricket and data science fan?\n",
    "\n",
    "Welcome to The Sledge Hack - Experience the World's Biggest Cricket Hackathon before the upcoming epic clash between India and Australia at the ICC World Cup on Oct 8, 2023. It's a celebration of cricket passion and data science wizardry – a must for every cricket fan and data enthusiast!\n",
    "\n",
    "This hackathon is a tribute to the spirit of cricket and data science enthusiasts. Join us in the pre-World Cup cricket celebration and send your best wishes to Team India on their World Cup journey! \n",
    "\n",
    "\n",
    "Problem Statement\n",
    "\n",
    "Your task is to make precise predictions regarding the runs scored and wickets taken by each player who has been carefully selected to represent their respective teams, India and Australia 15 members squad in the highly anticipated ICC World Cup 2023 clash on Oct 8, 2023.\n",
    "\n",
    "To accomplish this, you will need to use data science models and techniques based upon extensive historical data encompassing both player and team performance, allowing you to offer well-informed predictions.\n",
    "\n",
    "\n",
    "About the Dataset\n",
    "\n",
    "We have provided with you a dataset containing the batting and bowling statistics of the 30 players selected for the ICC World Cup 2023 of both teams India and Australia. The dataset contains the batting and bowling stats of each ODI played by the cricketer throughout his career.\n",
    "\n",
    "Column          Description\n",
    "\n",
    "player_id       Unique identifier of a player\n",
    "player_name     Name of the player\n",
    "runs_scored     No. of runs scored by the player in the match\n",
    "wickets         Wickets taken by the player in the match\n",
    "runs_conceded   No. of runs conceded by the player\n",
    "catches         No. of catches taken by the player\n",
    "stumpings       No. of stumpings done by the player\n",
    "match_date      Date of the match\n",
    "opposition      Opponent team name and Ground \n",
    "match_id        Unique identifier of the match\n",
    "\n",
    "\n",
    "Important: Feel free to use any open source dataset or external dataset for the hackathon.\n",
    "\n",
    "You will need to predict the runs scored and wickets taken by these 30 players in the upcoming clash between India and Australia on Oct 8, 2023.\n",
    "\n",
    "\n",
    "Sample Submission File\n",
    "\n",
    "You need to submit the solution file similar to the sample submission file. The solution file must contain the format similar to the sample submission file given below. \n",
    "\n",
    "Column          Description\n",
    "\n",
    "player_id       Unique identifier of the player\n",
    "runs            No. of runs scored by the player\n",
    "wickets         No. of wickets taken by the player\n",
    "\n",
    "\n",
    "\n",
    "Evaluation metric\n",
    "\n",
    "Your actual score will be generated only after the clash between India and Australia on Oct 8, 2023 comes to an end.\n",
    "\n",
    "Your solution file will be evaluated against the actual runs and wickets taken by the player in the match and final score is the weighted average of the RMSE is calculated between the predictions and actual runs scored and wickets taken by the players.\n",
    "\n",
    "At the moment, the leaderboard displays scores calculated in comparison to the benchmark model. This provides a useful reference for enhancing the model. However, it's important to note that the final score, determined based on player statistics after the match, may vary significantly. \n",
    "\n",
    "The final leaderboard is displayed after the clash between India and Australia on Oct 8, 2023."
   ]
  },
  {
   "cell_type": "code",
   "execution_count": 1,
   "id": "e5e9de2c",
   "metadata": {},
   "outputs": [],
   "source": [
    "# Libraries\n",
    "import pandas as pd\n",
    "import numpy as np"
   ]
  },
  {
   "cell_type": "markdown",
   "id": "05a20453",
   "metadata": {},
   "source": [
    "Data Gathering"
   ]
  },
  {
   "cell_type": "code",
   "execution_count": 2,
   "id": "32bcdb8c",
   "metadata": {},
   "outputs": [],
   "source": [
    "df = pd.read_csv('C://Users//Gallo//Downloads//data_zpyYWs0.csv')"
   ]
  },
  {
   "cell_type": "code",
   "execution_count": 3,
   "id": "3420a962",
   "metadata": {},
   "outputs": [
    {
     "data": {
      "text/html": [
       "<div>\n",
       "<style scoped>\n",
       "    .dataframe tbody tr th:only-of-type {\n",
       "        vertical-align: middle;\n",
       "    }\n",
       "\n",
       "    .dataframe tbody tr th {\n",
       "        vertical-align: top;\n",
       "    }\n",
       "\n",
       "    .dataframe thead th {\n",
       "        text-align: right;\n",
       "    }\n",
       "</style>\n",
       "<table border=\"1\" class=\"dataframe\">\n",
       "  <thead>\n",
       "    <tr style=\"text-align: right;\">\n",
       "      <th></th>\n",
       "      <th>player_id</th>\n",
       "      <th>player_name</th>\n",
       "      <th>runs_scored</th>\n",
       "      <th>wickets</th>\n",
       "      <th>runs_conceded</th>\n",
       "      <th>catches</th>\n",
       "      <th>stumpings</th>\n",
       "      <th>match_date</th>\n",
       "      <th>opposition</th>\n",
       "      <th>match_id</th>\n",
       "    </tr>\n",
       "  </thead>\n",
       "  <tbody>\n",
       "    <tr>\n",
       "      <th>0</th>\n",
       "      <td>1</td>\n",
       "      <td>Pat Cummins</td>\n",
       "      <td>DNB</td>\n",
       "      <td>3</td>\n",
       "      <td>28</td>\n",
       "      <td>0</td>\n",
       "      <td>0</td>\n",
       "      <td>19 Oct 2011</td>\n",
       "      <td>v South Africa Centurion</td>\n",
       "      <td>1</td>\n",
       "    </tr>\n",
       "    <tr>\n",
       "      <th>1</th>\n",
       "      <td>2</td>\n",
       "      <td>Steve Smith</td>\n",
       "      <td>DNB</td>\n",
       "      <td>-</td>\n",
       "      <td>-</td>\n",
       "      <td>0</td>\n",
       "      <td>0</td>\n",
       "      <td>19 Oct 2011</td>\n",
       "      <td>v South Africa Centurion</td>\n",
       "      <td>1</td>\n",
       "    </tr>\n",
       "    <tr>\n",
       "      <th>2</th>\n",
       "      <td>10</td>\n",
       "      <td>Mitch Marsh</td>\n",
       "      <td>8*</td>\n",
       "      <td>1</td>\n",
       "      <td>19</td>\n",
       "      <td>1</td>\n",
       "      <td>0</td>\n",
       "      <td>19 Oct 2011</td>\n",
       "      <td>v South Africa Centurion</td>\n",
       "      <td>1</td>\n",
       "    </tr>\n",
       "    <tr>\n",
       "      <th>3</th>\n",
       "      <td>13</td>\n",
       "      <td>David Warner</td>\n",
       "      <td>20</td>\n",
       "      <td>-</td>\n",
       "      <td>-</td>\n",
       "      <td>0</td>\n",
       "      <td>0</td>\n",
       "      <td>19 Oct 2011</td>\n",
       "      <td>v South Africa Centurion</td>\n",
       "      <td>1</td>\n",
       "    </tr>\n",
       "    <tr>\n",
       "      <th>4</th>\n",
       "      <td>1</td>\n",
       "      <td>Pat Cummins</td>\n",
       "      <td>11*</td>\n",
       "      <td>1</td>\n",
       "      <td>73</td>\n",
       "      <td>0</td>\n",
       "      <td>0</td>\n",
       "      <td>23 Oct 2011</td>\n",
       "      <td>v South Africa Gqeberha</td>\n",
       "      <td>2</td>\n",
       "    </tr>\n",
       "    <tr>\n",
       "      <th>5</th>\n",
       "      <td>2</td>\n",
       "      <td>Steve Smith</td>\n",
       "      <td>26</td>\n",
       "      <td>1</td>\n",
       "      <td>24</td>\n",
       "      <td>1</td>\n",
       "      <td>0</td>\n",
       "      <td>23 Oct 2011</td>\n",
       "      <td>v South Africa Gqeberha</td>\n",
       "      <td>2</td>\n",
       "    </tr>\n",
       "    <tr>\n",
       "      <th>6</th>\n",
       "      <td>13</td>\n",
       "      <td>David Warner</td>\n",
       "      <td>74</td>\n",
       "      <td>-</td>\n",
       "      <td>-</td>\n",
       "      <td>0</td>\n",
       "      <td>0</td>\n",
       "      <td>23 Oct 2011</td>\n",
       "      <td>v South Africa Gqeberha</td>\n",
       "      <td>2</td>\n",
       "    </tr>\n",
       "    <tr>\n",
       "      <th>7</th>\n",
       "      <td>1</td>\n",
       "      <td>Pat Cummins</td>\n",
       "      <td>6*</td>\n",
       "      <td>1</td>\n",
       "      <td>49</td>\n",
       "      <td>0</td>\n",
       "      <td>0</td>\n",
       "      <td>28 Oct 2011</td>\n",
       "      <td>v South Africa Durban</td>\n",
       "      <td>3</td>\n",
       "    </tr>\n",
       "    <tr>\n",
       "      <th>8</th>\n",
       "      <td>13</td>\n",
       "      <td>David Warner</td>\n",
       "      <td>10</td>\n",
       "      <td>-</td>\n",
       "      <td>-</td>\n",
       "      <td>1</td>\n",
       "      <td>0</td>\n",
       "      <td>28 Oct 2011</td>\n",
       "      <td>v South Africa Durban</td>\n",
       "      <td>3</td>\n",
       "    </tr>\n",
       "    <tr>\n",
       "      <th>9</th>\n",
       "      <td>1</td>\n",
       "      <td>Pat Cummins</td>\n",
       "      <td>TDNB</td>\n",
       "      <td>1</td>\n",
       "      <td>11</td>\n",
       "      <td>0</td>\n",
       "      <td>0</td>\n",
       "      <td>23 Jun 2012</td>\n",
       "      <td>v Ireland Belfast</td>\n",
       "      <td>4</td>\n",
       "    </tr>\n",
       "  </tbody>\n",
       "</table>\n",
       "</div>"
      ],
      "text/plain": [
       "   player_id   player_name runs_scored wickets runs_conceded catches  \\\n",
       "0          1   Pat Cummins         DNB       3            28       0   \n",
       "1          2   Steve Smith         DNB       -             -       0   \n",
       "2         10   Mitch Marsh          8*       1            19       1   \n",
       "3         13  David Warner          20       -             -       0   \n",
       "4          1   Pat Cummins         11*       1            73       0   \n",
       "5          2   Steve Smith          26       1            24       1   \n",
       "6         13  David Warner          74       -             -       0   \n",
       "7          1   Pat Cummins          6*       1            49       0   \n",
       "8         13  David Warner          10       -             -       1   \n",
       "9          1   Pat Cummins        TDNB       1            11       0   \n",
       "\n",
       "  stumpings   match_date                opposition  match_id  \n",
       "0         0  19 Oct 2011  v South Africa Centurion         1  \n",
       "1         0  19 Oct 2011  v South Africa Centurion         1  \n",
       "2         0  19 Oct 2011  v South Africa Centurion         1  \n",
       "3         0  19 Oct 2011  v South Africa Centurion         1  \n",
       "4         0  23 Oct 2011   v South Africa Gqeberha         2  \n",
       "5         0  23 Oct 2011   v South Africa Gqeberha         2  \n",
       "6         0  23 Oct 2011   v South Africa Gqeberha         2  \n",
       "7         0  28 Oct 2011     v South Africa Durban         3  \n",
       "8         0  28 Oct 2011     v South Africa Durban         3  \n",
       "9         0  23 Jun 2012         v Ireland Belfast         4  "
      ]
     },
     "execution_count": 3,
     "metadata": {},
     "output_type": "execute_result"
    }
   ],
   "source": [
    "df.head(10)"
   ]
  },
  {
   "cell_type": "markdown",
   "id": "d0fd47ea",
   "metadata": {},
   "source": [
    "EDA"
   ]
  },
  {
   "cell_type": "code",
   "execution_count": 4,
   "id": "84b104a0",
   "metadata": {},
   "outputs": [
    {
     "data": {
      "text/plain": [
       "(2575, 10)"
      ]
     },
     "execution_count": 4,
     "metadata": {},
     "output_type": "execute_result"
    }
   ],
   "source": [
    "df.shape"
   ]
  },
  {
   "cell_type": "code",
   "execution_count": 5,
   "id": "7a982cc5",
   "metadata": {},
   "outputs": [
    {
     "name": "stdout",
     "output_type": "stream",
     "text": [
      "<class 'pandas.core.frame.DataFrame'>\n",
      "RangeIndex: 2575 entries, 0 to 2574\n",
      "Data columns (total 10 columns):\n",
      " #   Column         Non-Null Count  Dtype \n",
      "---  ------         --------------  ----- \n",
      " 0   player_id      2575 non-null   int64 \n",
      " 1   player_name    2575 non-null   object\n",
      " 2   runs_scored    2575 non-null   object\n",
      " 3   wickets        2575 non-null   object\n",
      " 4   runs_conceded  2575 non-null   object\n",
      " 5   catches        2575 non-null   object\n",
      " 6   stumpings      2575 non-null   object\n",
      " 7   match_date     2575 non-null   object\n",
      " 8   opposition     2575 non-null   object\n",
      " 9   match_id       2575 non-null   int64 \n",
      "dtypes: int64(2), object(8)\n",
      "memory usage: 201.3+ KB\n"
     ]
    }
   ],
   "source": [
    "df.info()"
   ]
  },
  {
   "cell_type": "code",
   "execution_count": 6,
   "id": "d68bf4e0",
   "metadata": {},
   "outputs": [
    {
     "data": {
      "text/plain": [
       "player_id        False\n",
       "player_name      False\n",
       "runs_scored      False\n",
       "wickets          False\n",
       "runs_conceded    False\n",
       "catches          False\n",
       "stumpings        False\n",
       "match_date       False\n",
       "opposition       False\n",
       "match_id         False\n",
       "dtype: bool"
      ]
     },
     "execution_count": 6,
     "metadata": {},
     "output_type": "execute_result"
    }
   ],
   "source": [
    "# Checking to see if any columns have missing data\n",
    "df.isnull().any()"
   ]
  },
  {
   "cell_type": "code",
   "execution_count": 7,
   "id": "3a5b1afc",
   "metadata": {},
   "outputs": [
    {
     "data": {
      "text/html": [
       "<div>\n",
       "<style scoped>\n",
       "    .dataframe tbody tr th:only-of-type {\n",
       "        vertical-align: middle;\n",
       "    }\n",
       "\n",
       "    .dataframe tbody tr th {\n",
       "        vertical-align: top;\n",
       "    }\n",
       "\n",
       "    .dataframe thead th {\n",
       "        text-align: right;\n",
       "    }\n",
       "</style>\n",
       "<table border=\"1\" class=\"dataframe\">\n",
       "  <thead>\n",
       "    <tr style=\"text-align: right;\">\n",
       "      <th></th>\n",
       "      <th>player_id</th>\n",
       "      <th>match_id</th>\n",
       "    </tr>\n",
       "  </thead>\n",
       "  <tbody>\n",
       "    <tr>\n",
       "      <th>count</th>\n",
       "      <td>2575.000000</td>\n",
       "      <td>2575.000000</td>\n",
       "    </tr>\n",
       "    <tr>\n",
       "      <th>mean</th>\n",
       "      <td>15.926214</td>\n",
       "      <td>248.114951</td>\n",
       "    </tr>\n",
       "    <tr>\n",
       "      <th>std</th>\n",
       "      <td>7.663574</td>\n",
       "      <td>168.410523</td>\n",
       "    </tr>\n",
       "    <tr>\n",
       "      <th>min</th>\n",
       "      <td>1.000000</td>\n",
       "      <td>1.000000</td>\n",
       "    </tr>\n",
       "    <tr>\n",
       "      <th>25%</th>\n",
       "      <td>11.000000</td>\n",
       "      <td>77.000000</td>\n",
       "    </tr>\n",
       "    <tr>\n",
       "      <th>50%</th>\n",
       "      <td>16.000000</td>\n",
       "      <td>204.000000</td>\n",
       "    </tr>\n",
       "    <tr>\n",
       "      <th>75%</th>\n",
       "      <td>22.000000</td>\n",
       "      <td>411.000000</td>\n",
       "    </tr>\n",
       "    <tr>\n",
       "      <th>max</th>\n",
       "      <td>30.000000</td>\n",
       "      <td>557.000000</td>\n",
       "    </tr>\n",
       "  </tbody>\n",
       "</table>\n",
       "</div>"
      ],
      "text/plain": [
       "         player_id     match_id\n",
       "count  2575.000000  2575.000000\n",
       "mean     15.926214   248.114951\n",
       "std       7.663574   168.410523\n",
       "min       1.000000     1.000000\n",
       "25%      11.000000    77.000000\n",
       "50%      16.000000   204.000000\n",
       "75%      22.000000   411.000000\n",
       "max      30.000000   557.000000"
      ]
     },
     "execution_count": 7,
     "metadata": {},
     "output_type": "execute_result"
    }
   ],
   "source": [
    "df.describe()"
   ]
  },
  {
   "cell_type": "markdown",
   "id": "1560e73f",
   "metadata": {},
   "source": [
    "Data Cleaning & Preparation"
   ]
  },
  {
   "cell_type": "code",
   "execution_count": 8,
   "id": "6d118779",
   "metadata": {},
   "outputs": [
    {
     "data": {
      "text/plain": [
       "0   2011-10-19\n",
       "1   2011-10-19\n",
       "2   2011-10-19\n",
       "3   2011-10-19\n",
       "4   2011-10-23\n",
       "Name: match_date, dtype: datetime64[ns]"
      ]
     },
     "execution_count": 8,
     "metadata": {},
     "output_type": "execute_result"
    }
   ],
   "source": [
    "# Changing match_date column to datetime instead of object\n",
    "df['match_date'] = pd.to_datetime(df['match_date'])  #, format='%d %m %y')\n",
    "df['match_date'].head()"
   ]
  },
  {
   "cell_type": "code",
   "execution_count": 9,
   "id": "66d22023",
   "metadata": {},
   "outputs": [
    {
     "data": {
      "text/plain": [
       "0    19\n",
       "1    19\n",
       "2    19\n",
       "3    19\n",
       "4    23\n",
       "Name: Day, dtype: int64"
      ]
     },
     "execution_count": 9,
     "metadata": {},
     "output_type": "execute_result"
    }
   ],
   "source": [
    "# Separate out day\n",
    "day = df['match_date'].dt.day\n",
    "day.rename('Day', inplace=True)\n",
    "day.head()"
   ]
  },
  {
   "cell_type": "code",
   "execution_count": 10,
   "id": "c8e5f430",
   "metadata": {
    "scrolled": true
   },
   "outputs": [
    {
     "data": {
      "text/plain": [
       "0    10\n",
       "1    10\n",
       "2    10\n",
       "3    10\n",
       "4    10\n",
       "Name: Month, dtype: int64"
      ]
     },
     "execution_count": 10,
     "metadata": {},
     "output_type": "execute_result"
    }
   ],
   "source": [
    "# Separate out month\n",
    "month = df['match_date'].dt.month\n",
    "month.rename('Month', inplace=True)\n",
    "month.head()"
   ]
  },
  {
   "cell_type": "code",
   "execution_count": 11,
   "id": "8c3459a0",
   "metadata": {},
   "outputs": [
    {
     "data": {
      "text/plain": [
       "0    2011\n",
       "1    2011\n",
       "2    2011\n",
       "3    2011\n",
       "4    2011\n",
       "Name: Year, dtype: int64"
      ]
     },
     "execution_count": 11,
     "metadata": {},
     "output_type": "execute_result"
    }
   ],
   "source": [
    "# Separate out year\n",
    "year = df['match_date'].dt.year\n",
    "year.rename('Year', inplace=True)\n",
    "year.head()"
   ]
  },
  {
   "cell_type": "code",
   "execution_count": 14,
   "id": "d2762738",
   "metadata": {},
   "outputs": [],
   "source": [
    "# Drop match_date column\n",
    "df = df.drop(['match_date'], axis=1)"
   ]
  },
  {
   "cell_type": "code",
   "execution_count": 15,
   "id": "01c92fb9",
   "metadata": {},
   "outputs": [
    {
     "data": {
      "text/html": [
       "<div>\n",
       "<style scoped>\n",
       "    .dataframe tbody tr th:only-of-type {\n",
       "        vertical-align: middle;\n",
       "    }\n",
       "\n",
       "    .dataframe tbody tr th {\n",
       "        vertical-align: top;\n",
       "    }\n",
       "\n",
       "    .dataframe thead th {\n",
       "        text-align: right;\n",
       "    }\n",
       "</style>\n",
       "<table border=\"1\" class=\"dataframe\">\n",
       "  <thead>\n",
       "    <tr style=\"text-align: right;\">\n",
       "      <th></th>\n",
       "      <th>player_id</th>\n",
       "      <th>player_name</th>\n",
       "      <th>runs_scored</th>\n",
       "      <th>wickets</th>\n",
       "      <th>runs_conceded</th>\n",
       "      <th>catches</th>\n",
       "      <th>stumpings</th>\n",
       "      <th>opposition</th>\n",
       "      <th>match_id</th>\n",
       "      <th>Day</th>\n",
       "      <th>Month</th>\n",
       "      <th>Year</th>\n",
       "      <th>Day</th>\n",
       "      <th>Month</th>\n",
       "      <th>Year</th>\n",
       "    </tr>\n",
       "  </thead>\n",
       "  <tbody>\n",
       "    <tr>\n",
       "      <th>0</th>\n",
       "      <td>1</td>\n",
       "      <td>Pat Cummins</td>\n",
       "      <td>DNB</td>\n",
       "      <td>3</td>\n",
       "      <td>28</td>\n",
       "      <td>0</td>\n",
       "      <td>0</td>\n",
       "      <td>v South Africa Centurion</td>\n",
       "      <td>1</td>\n",
       "      <td>19</td>\n",
       "      <td>10</td>\n",
       "      <td>2011</td>\n",
       "      <td>19</td>\n",
       "      <td>10</td>\n",
       "      <td>2011</td>\n",
       "    </tr>\n",
       "    <tr>\n",
       "      <th>1</th>\n",
       "      <td>2</td>\n",
       "      <td>Steve Smith</td>\n",
       "      <td>DNB</td>\n",
       "      <td>-</td>\n",
       "      <td>-</td>\n",
       "      <td>0</td>\n",
       "      <td>0</td>\n",
       "      <td>v South Africa Centurion</td>\n",
       "      <td>1</td>\n",
       "      <td>19</td>\n",
       "      <td>10</td>\n",
       "      <td>2011</td>\n",
       "      <td>19</td>\n",
       "      <td>10</td>\n",
       "      <td>2011</td>\n",
       "    </tr>\n",
       "    <tr>\n",
       "      <th>2</th>\n",
       "      <td>10</td>\n",
       "      <td>Mitch Marsh</td>\n",
       "      <td>8*</td>\n",
       "      <td>1</td>\n",
       "      <td>19</td>\n",
       "      <td>1</td>\n",
       "      <td>0</td>\n",
       "      <td>v South Africa Centurion</td>\n",
       "      <td>1</td>\n",
       "      <td>19</td>\n",
       "      <td>10</td>\n",
       "      <td>2011</td>\n",
       "      <td>19</td>\n",
       "      <td>10</td>\n",
       "      <td>2011</td>\n",
       "    </tr>\n",
       "    <tr>\n",
       "      <th>3</th>\n",
       "      <td>13</td>\n",
       "      <td>David Warner</td>\n",
       "      <td>20</td>\n",
       "      <td>-</td>\n",
       "      <td>-</td>\n",
       "      <td>0</td>\n",
       "      <td>0</td>\n",
       "      <td>v South Africa Centurion</td>\n",
       "      <td>1</td>\n",
       "      <td>19</td>\n",
       "      <td>10</td>\n",
       "      <td>2011</td>\n",
       "      <td>19</td>\n",
       "      <td>10</td>\n",
       "      <td>2011</td>\n",
       "    </tr>\n",
       "    <tr>\n",
       "      <th>4</th>\n",
       "      <td>1</td>\n",
       "      <td>Pat Cummins</td>\n",
       "      <td>11*</td>\n",
       "      <td>1</td>\n",
       "      <td>73</td>\n",
       "      <td>0</td>\n",
       "      <td>0</td>\n",
       "      <td>v South Africa Gqeberha</td>\n",
       "      <td>2</td>\n",
       "      <td>23</td>\n",
       "      <td>10</td>\n",
       "      <td>2011</td>\n",
       "      <td>23</td>\n",
       "      <td>10</td>\n",
       "      <td>2011</td>\n",
       "    </tr>\n",
       "  </tbody>\n",
       "</table>\n",
       "</div>"
      ],
      "text/plain": [
       "   player_id   player_name runs_scored wickets runs_conceded catches  \\\n",
       "0          1   Pat Cummins         DNB       3            28       0   \n",
       "1          2   Steve Smith         DNB       -             -       0   \n",
       "2         10   Mitch Marsh          8*       1            19       1   \n",
       "3         13  David Warner          20       -             -       0   \n",
       "4          1   Pat Cummins         11*       1            73       0   \n",
       "\n",
       "  stumpings                opposition  match_id  Day  Month  Year  Day  Month  \\\n",
       "0         0  v South Africa Centurion         1   19     10  2011   19     10   \n",
       "1         0  v South Africa Centurion         1   19     10  2011   19     10   \n",
       "2         0  v South Africa Centurion         1   19     10  2011   19     10   \n",
       "3         0  v South Africa Centurion         1   19     10  2011   19     10   \n",
       "4         0   v South Africa Gqeberha         2   23     10  2011   23     10   \n",
       "\n",
       "   Year  \n",
       "0  2011  \n",
       "1  2011  \n",
       "2  2011  \n",
       "3  2011  \n",
       "4  2011  "
      ]
     },
     "execution_count": 15,
     "metadata": {},
     "output_type": "execute_result"
    }
   ],
   "source": [
    "# Concatinate day, month and year columns onto original dataframe\n",
    "df = pd.concat([df, day, month, year], axis=1)\n",
    "df.head()"
   ]
  },
  {
   "cell_type": "code",
   "execution_count": 16,
   "id": "43dcc242",
   "metadata": {
    "scrolled": true
   },
   "outputs": [
    {
     "data": {
      "text/plain": [
       "array(['DNB', '8*', '20', '11*', '26', '74', '6*', '10', 'TDNB', '4', '8',\n",
       "       '56', '1*', '104', '2', '0', '67', '7', '21', '37', '127', '0*',\n",
       "       '47', '24', '138', '9', '2*', '14*', '102*', '7*', '1', '34',\n",
       "       '21*', '11', '84', '44', '40*', '15', '59', '70', '64', '49', '5',\n",
       "       '25', '13', '17', '85', '12', '164', '52', '72', '57', '76*',\n",
       "       '119', '156', '39', '60', '29', '23', '16', '3', '108*', '23*',\n",
       "       '35', '51', '78', '130', '128', '179', '6', '36', '146*', '27',\n",
       "       '53', '42', '29*', '18', '22*', '71*', '5*', '28', '83', '14',\n",
       "       '62*', '92', '10*', '63', '27*', '71', '15*', '124', '65', '41',\n",
       "       '46', '125', '50', '45', '55', '96', '32', '33', '22', '36*', '40',\n",
       "       '116', '31*', '123', '95', '25*', '4*', '89*', '73', '19', '69',\n",
       "       '55*', '48', '82', '107', '46*', '17*', '166', '38', '38*', '122',\n",
       "       '128*', '98', '80', '20*', '131', '54', '89', '44*', '76', '3*',\n",
       "       '9*', '77', '43', '19*', '106', '108', '105', '90', '63*', '80*',\n",
       "       '30', '99', '45*', '31', '86', '12*', '152', '58*', '81', '18*',\n",
       "       '118', '24*', '93', '86*', '101', '73*', '66', '88', '178', '102',\n",
       "       '56*', '149', '171*', '91', '26*', '117', '69*', '52*', '109',\n",
       "       '79*', '58', '59*', '173', '87', '92*', '66*', '48*', '32*', '47*',\n",
       "       '94', '13*', '61', '42*', '75*', '51*', '72*', '133', '70*', '62',\n",
       "       '141*', '100*', '68', '79', '115*', '209', '163', '100', '39*',\n",
       "       '60*', '43*', '114', '61*', '101*', '87*', '68*', '90*', '30*',\n",
       "       '183', '33*', '49*', '115', '64*', '136', '264', '139*', '57*',\n",
       "       '16*', '137', '150', '85*', '154*', '81*', '123*', '96*', '82*',\n",
       "       '124*', '110*', '121', '147', '113', '208*', '112', '160*', '75',\n",
       "       '129*', '137*', '83*', '111*', '152*', '140', '157*', '162',\n",
       "       '122*', '103', '34*', '111', '120', '114*', '159', '166*', '208',\n",
       "       '74*', '67*', '98*', '113*', '28*', '112*', '133*', '77*', '88*',\n",
       "       '50*', '210'], dtype=object)"
      ]
     },
     "execution_count": 16,
     "metadata": {},
     "output_type": "execute_result"
    }
   ],
   "source": [
    "# Checking all the unique data in the runs_scored column\n",
    "df['runs_scored'].unique()"
   ]
  },
  {
   "cell_type": "code",
   "execution_count": 17,
   "id": "ff48d57b",
   "metadata": {
    "scrolled": true
   },
   "outputs": [
    {
     "data": {
      "text/plain": [
       "array(['0', '8 ', '20', '11 ', '26', '74', '6 ', '10', ' 0', '4', '8',\n",
       "       '56', '1 ', '104', '2', '67', '7', '21', '37', '127', '0 ', '47',\n",
       "       '24', '138', '9', '2 ', '14 ', '102 ', '7 ', '1', '34', '21 ',\n",
       "       '11', '84', '44', '40 ', '15', '59', '70', '64', '49', '5', '25',\n",
       "       '13', '17', '85', '12', '164', '52', '72', '57', '76 ', '119',\n",
       "       '156', '39', '60', '29', '23', '16', '3', '108 ', '23 ', '35',\n",
       "       '51', '78', '130', '128', '179', '6', '36', '146 ', '27', '53',\n",
       "       '42', '29 ', '18', '22 ', '71 ', '5 ', '28', '83', '14', '62 ',\n",
       "       '92', '10 ', '63', '27 ', '71', '15 ', '124', '65', '41', '46',\n",
       "       '125', '50', '45', '55', '96', '32', '33', '22', '36 ', '40',\n",
       "       '116', '31 ', '123', '95', '25 ', '4 ', '89 ', '73', '19', '69',\n",
       "       '55 ', '48', '82', '107', '46 ', '17 ', '166', '38', '38 ', '122',\n",
       "       '128 ', '98', '80', '20 ', '131', '54', '89', '44 ', '76', '3 ',\n",
       "       '9 ', '77', '43', '19 ', '106', '108', '105', '90', '63 ', '80 ',\n",
       "       '30', '99', '45 ', '31', '86', '12 ', '152', '58 ', '81', '18 ',\n",
       "       '118', '24 ', '93', '86 ', '101', '73 ', '66', '88', '178', '102',\n",
       "       '56 ', '149', '171 ', '91', '26 ', '117', '69 ', '52 ', '109',\n",
       "       '79 ', '58', '59 ', '173', '87', '92 ', '66 ', '48 ', '32 ', '47 ',\n",
       "       '94', '13 ', '61', '42 ', '75 ', '51 ', '72 ', '133', '70 ', '62',\n",
       "       '141 ', '100 ', '68', '79', '115 ', '209', '163', '100', '39 ',\n",
       "       '60 ', '43 ', '114', '61 ', '101 ', '87 ', '68 ', '90 ', '30 ',\n",
       "       '183', '33 ', '49 ', '115', '64 ', '136', '264', '139 ', '57 ',\n",
       "       '16 ', '137', '150', '85 ', '154 ', '81 ', '123 ', '96 ', '82 ',\n",
       "       '124 ', '110 ', '121', '147', '113', '208 ', '112', '160 ', '75',\n",
       "       '129 ', '137 ', '83 ', '111 ', '152 ', '140', '157 ', '162',\n",
       "       '122 ', '103', '34 ', '111', '120', '114 ', '159', '166 ', '208',\n",
       "       '74 ', '67 ', '98 ', '113 ', '28 ', '112 ', '133 ', '77 ', '88 ',\n",
       "       '50 ', '210'], dtype=object)"
      ]
     },
     "execution_count": 17,
     "metadata": {},
     "output_type": "execute_result"
    }
   ],
   "source": [
    "# Taking out the data with DNB and TDNB with 0s\n",
    "df['runs_scored'] = df['runs_scored'].str.replace('DNB', '0', regex=True)\n",
    "df['runs_scored'] = df['runs_scored'].str.replace('TDNB','0', regex=True)\n",
    "# Taking out the data with * after the numbers\n",
    "df['runs_scored'] = df['runs_scored'].str.replace(r'\\D',' ', regex=True)\n",
    "df['runs_scored'].unique()"
   ]
  },
  {
   "cell_type": "code",
   "execution_count": 18,
   "id": "4b1b0990",
   "metadata": {},
   "outputs": [
    {
     "data": {
      "text/plain": [
       "array(['3', '-', '1', '2', '0', '4', '6', '5'], dtype=object)"
      ]
     },
     "execution_count": 18,
     "metadata": {},
     "output_type": "execute_result"
    }
   ],
   "source": [
    "# Checking to see the unique data\n",
    "df['wickets'].unique()"
   ]
  },
  {
   "cell_type": "code",
   "execution_count": 19,
   "id": "6e7b3652",
   "metadata": {},
   "outputs": [
    {
     "data": {
      "text/plain": [
       "array(['3', '0', '1', '2', '4', '6', '5'], dtype=object)"
      ]
     },
     "execution_count": 19,
     "metadata": {},
     "output_type": "execute_result"
    }
   ],
   "source": [
    "# Replacing - data with 0\n",
    "df['wickets'] = df['wickets'].str.replace('-','0', regex=True)\n",
    "df['wickets'].unique()"
   ]
  },
  {
   "cell_type": "code",
   "execution_count": 20,
   "id": "d23deb86",
   "metadata": {},
   "outputs": [
    {
     "data": {
      "text/plain": [
       "array(['28', '-', '19', '73', '24', '49', '11', '53', '61', '27', '43',\n",
       "       '40', '54', '17', '52', '30', '60', '42', '37', '14', '44', '74',\n",
       "       '22', '38', '7', '26', '41', '34', '48', '35', '29', '55', '56',\n",
       "       '51', '50', '79', '33', '62', '66', '31', '32', '23', '45', '65',\n",
       "       '13', '67', '21', '59', '47', '9', '20', '46', '39', '2', '58',\n",
       "       '75', '63', '6', '15', '72', '71', '18', '16', '57', '70', '12',\n",
       "       '64', '68', '25', '5', '78', '77', '8', '36', '82', '3', '81',\n",
       "       '10', '4', '84', '1', '91', '103', '76', '113', '85', '69', '80',\n",
       "       '87'], dtype=object)"
      ]
     },
     "execution_count": 20,
     "metadata": {},
     "output_type": "execute_result"
    }
   ],
   "source": [
    "# Checking to see the unique data\n",
    "df['runs_conceded'].unique()"
   ]
  },
  {
   "cell_type": "code",
   "execution_count": 21,
   "id": "034d9707",
   "metadata": {},
   "outputs": [
    {
     "data": {
      "text/plain": [
       "array(['28', '0', '19', '73', '24', '49', '11', '53', '61', '27', '43',\n",
       "       '40', '54', '17', '52', '30', '60', '42', '37', '14', '44', '74',\n",
       "       '22', '38', '7', '26', '41', '34', '48', '35', '29', '55', '56',\n",
       "       '51', '50', '79', '33', '62', '66', '31', '32', '23', '45', '65',\n",
       "       '13', '67', '21', '59', '47', '9', '20', '46', '39', '2', '58',\n",
       "       '75', '63', '6', '15', '72', '71', '18', '16', '57', '70', '12',\n",
       "       '64', '68', '25', '5', '78', '77', '8', '36', '82', '3', '81',\n",
       "       '10', '4', '84', '1', '91', '103', '76', '113', '85', '69', '80',\n",
       "       '87'], dtype=object)"
      ]
     },
     "execution_count": 21,
     "metadata": {},
     "output_type": "execute_result"
    }
   ],
   "source": [
    "# Replacing - data with 0\n",
    "df['runs_conceded'] = df['runs_conceded'].str.replace('-','0', regex=True)\n",
    "df['runs_conceded'].unique()"
   ]
  },
  {
   "cell_type": "code",
   "execution_count": 22,
   "id": "b5e63a88",
   "metadata": {},
   "outputs": [
    {
     "data": {
      "text/plain": [
       "array(['0', '1', '2', '4', '3', '-'], dtype=object)"
      ]
     },
     "execution_count": 22,
     "metadata": {},
     "output_type": "execute_result"
    }
   ],
   "source": [
    "df['catches'].unique()"
   ]
  },
  {
   "cell_type": "code",
   "execution_count": 23,
   "id": "5730bbc2",
   "metadata": {},
   "outputs": [
    {
     "data": {
      "text/plain": [
       "array(['0', '1', '2', '4', '3'], dtype=object)"
      ]
     },
     "execution_count": 23,
     "metadata": {},
     "output_type": "execute_result"
    }
   ],
   "source": [
    "# Replacing - data with 0\n",
    "df['catches'] = df['catches'].str.replace('-','0', regex=True)\n",
    "df['catches'].unique()"
   ]
  },
  {
   "cell_type": "code",
   "execution_count": 24,
   "id": "d8046070",
   "metadata": {},
   "outputs": [
    {
     "data": {
      "text/plain": [
       "array(['0', '2', '1', '-'], dtype=object)"
      ]
     },
     "execution_count": 24,
     "metadata": {},
     "output_type": "execute_result"
    }
   ],
   "source": [
    "df['stumpings'].unique()"
   ]
  },
  {
   "cell_type": "code",
   "execution_count": 25,
   "id": "b0da7817",
   "metadata": {},
   "outputs": [
    {
     "data": {
      "text/plain": [
       "array(['0', '2', '1'], dtype=object)"
      ]
     },
     "execution_count": 25,
     "metadata": {},
     "output_type": "execute_result"
    }
   ],
   "source": [
    "# Replacing - data with 0\n",
    "df['stumpings'] = df['stumpings'].str.replace('-','0', regex=True)\n",
    "df['stumpings'].unique()"
   ]
  },
  {
   "cell_type": "code",
   "execution_count": 26,
   "id": "15334a68",
   "metadata": {
    "scrolled": true
   },
   "outputs": [
    {
     "data": {
      "text/plain": [
       "array(['v South Africa Centurion', 'v South Africa Gqeberha',\n",
       "       'v South Africa Durban', 'v Ireland Belfast', \"v England Lord's\",\n",
       "       'v South Africa Melbourne', 'v South Africa Sydney',\n",
       "       'v England Sydney', 'v India Melbourne', 'v Australia Melbourne',\n",
       "       'v England Hobart', 'v New Zealand Auckland', 'v Scotland Hobart',\n",
       "       'v England Southampton', 'v England Manchester', 'v England Leeds',\n",
       "       'v New Zealand Sydney', 'v New Zealand Canberra',\n",
       "       'v New Zealand Melbourne', 'v Pakistan Brisbane',\n",
       "       'v Pakistan Melbourne', 'v Pakistan Perth', 'v Pakistan Sydney',\n",
       "       'v Pakistan Adelaide', 'v New Zealand Hamilton',\n",
       "       'v New Zealand Birmingham', 'v Bangladesh The Oval',\n",
       "       'v England Birmingham', 'v India Chennai', 'v Australia Chennai',\n",
       "       'v India Eden Gardens', 'v Australia Eden Gardens',\n",
       "       'v India Indore', 'v Australia Indore', 'v India Bengaluru',\n",
       "       'v Australia Bengaluru', 'v India Nagpur', 'v Australia Nagpur',\n",
       "       'v England Melbourne', 'v England Adelaide',\n",
       "       'v South Africa Perth', 'v South Africa Adelaide',\n",
       "       'v South Africa Hobart', 'v India Hyderabad',\n",
       "       'v Australia Hyderabad', 'v India Ranchi', 'v Australia Ranchi',\n",
       "       'v India Mohali', 'v Australia Mohali', 'v India Delhi',\n",
       "       'v Australia Delhi', 'v Pakistan Abu Dhabi',\n",
       "       'v Afghanistan Bristol', 'v West Indies Nottingham',\n",
       "       'v India The Oval', 'v Australia The Oval', 'v Pakistan Taunton',\n",
       "       'v Sri Lanka The Oval', 'v Bangladesh Nottingham',\n",
       "       \"v New Zealand Lord's\", 'v South Africa Manchester',\n",
       "       'v India Wankhede', 'v Australia Wankhede', 'v India Rajkot',\n",
       "       'v Australia Rajkot', 'v South Africa Paarl',\n",
       "       'v South Africa Bloemfontein', 'v India Sydney',\n",
       "       'v Australia Sydney', 'v Sri Lanka Pallekele',\n",
       "       'v Sri Lanka Colombo (RPS)', 'v West Indies Melbourne',\n",
       "       'v England Cardiff', 'v England The Oval', 'v India Visakhapatnam',\n",
       "       'v Australia Visakhapatnam', 'v Sri Lanka Melbourne',\n",
       "       'v Sri Lanka Sydney', 'v Sri Lanka Brisbane', 'v England Brisbane',\n",
       "       'v Zimbabwe Ahmedabad', 'v New Zealand Nagpur',\n",
       "       'v Kenya Bengaluru', 'v Canada Bengaluru',\n",
       "       'v Pakistan Colombo (RPS)', 'v Bangladesh Mirpur',\n",
       "       'v Sri Lanka Hambantota', 'v Sri Lanka Adelaide',\n",
       "       'v England Perth', 'v Zimbabwe Harare', 'v South Africa Harare',\n",
       "       'v Pakistan Sharjah', 'v Pakistan Dubai (DSC)',\n",
       "       'v South Africa Canberra', 'v Afghanistan Perth', 'v India Perth',\n",
       "       'v Australia Perth', 'v India Brisbane', 'v Australia Brisbane',\n",
       "       'v India Canberra', 'v Australia Canberra',\n",
       "       'v New Zealand Wellington', 'v West Indies Providence',\n",
       "       'v South Africa Providence', 'v South Africa Basseterre',\n",
       "       'v West Indies Basseterre', 'v South Africa Bridgetown',\n",
       "       'v West Indies Bridgetown', 'v Ireland Benoni',\n",
       "       'v South Africa Johannesburg', 'v South Africa Cape Town',\n",
       "       'v South Africa Potchefstroom', 'v Zimbabwe Townsville',\n",
       "       'v New Zealand Cairns', 'v England Chester-le-Street',\n",
       "       'v India Adelaide', 'v Australia Adelaide', 'v Pakistan Lahore',\n",
       "       'v Sri Lanka Dambulla', 'v England Nottingham',\n",
       "       'v Afghanistan Sharjah', 'v Sri Lanka Hobart',\n",
       "       'v West Indies Perth', 'v West Indies Canberra',\n",
       "       'v West Indies Sydney', 'v India Pune', 'v Australia Pune',\n",
       "       'v India Jaipur', 'v Australia Jaipur', 'v New Zealand Perth',\n",
       "       'v Scotland Edinburgh', 'v Sri Lanka Perth',\n",
       "       'v West Indies Kingstown', 'v West Indies Gros Islet',\n",
       "       'v South Africa Belfast', 'v Pakistan Jaipur',\n",
       "       'v Sri Lanka Canberra', 'v Pakistan Mirpur', 'v Hong Kong Karachi',\n",
       "       'v Pakistan Karachi', 'v Bangladesh Karachi',\n",
       "       'v Sri Lanka Karachi', 'v England Rajkot', 'v England Indore',\n",
       "       'v England Kanpur', 'v England Cuttack', 'v West Indies Kingston',\n",
       "       'v South Africa Ahmedabad', 'v Zimbabwe Bulawayo',\n",
       "       'v Sri Lanka Bulawayo', 'v Sri Lanka Harare',\n",
       "       'v Bangladesh Dambulla', 'v Pakistan Dambulla',\n",
       "       'v New Zealand Dambulla', 'v New Zealand Bengaluru',\n",
       "       'v New Zealand Chennai', 'v West Indies Port of Spain',\n",
       "       'v West Indies North Sound', 'v West Indies Cuttack',\n",
       "       'v West Indies Visakhapatnam', 'v West Indies Ahmedabad',\n",
       "       'v West Indies Indore', 'v West Indies Chennai',\n",
       "       'v Sri Lanka Mirpur', 'v Pakistan Chennai', 'v England Mohali',\n",
       "       'v England Dharamsala', 'v South Africa Cardiff',\n",
       "       'v West Indies The Oval', 'v Pakistan Birmingham',\n",
       "       'v Sri Lanka Cardiff', 'v Sri Lanka Kingston',\n",
       "       'v Sri Lanka Port of Spain', 'v West Indies Kochi',\n",
       "       'v West Indies Kanpur', 'v New Zealand Napier',\n",
       "       'v Bangladesh Fatullah', 'v Sri Lanka Fatullah',\n",
       "       'v Afghanistan Mirpur', 'v Sri Lanka Eden Gardens',\n",
       "       'v Sri Lanka Ranchi', 'v U.A.E. Perth', 'v Ireland Hamilton',\n",
       "       'v Zimbabwe Auckland', 'v Bangladesh Melbourne',\n",
       "       'v South Africa Kanpur', 'v South Africa Indore',\n",
       "       'v South Africa Rajkot', 'v South Africa Chennai',\n",
       "       'v South Africa Wankhede', 'v New Zealand Dharamsala',\n",
       "       'v New Zealand Delhi', 'v New Zealand Mohali',\n",
       "       'v New Zealand Ranchi', 'v New Zealand Visakhapatnam',\n",
       "       'v South Africa The Oval', 'v Bangladesh Birmingham',\n",
       "       'v Pakistan The Oval', 'v New Zealand Wankhede',\n",
       "       'v New Zealand Pune', 'v New Zealand Kanpur',\n",
       "       'v Sri Lanka Dharamsala', 'v Sri Lanka Mohali',\n",
       "       'v Sri Lanka Visakhapatnam', 'v Hong Kong Dubai (DSC)',\n",
       "       'v Bangladesh Dubai (DSC)', 'v West Indies Guwahati',\n",
       "       'v West Indies Pune', 'v West Indies Brabourne',\n",
       "       'v West Indies Thiruvananthapuram',\n",
       "       'v New Zealand Mount Maunganui', 'v South Africa Southampton',\n",
       "       'v Pakistan Manchester', 'v Afghanistan Southampton',\n",
       "       'v West Indies Manchester', 'v Sri Lanka Leeds',\n",
       "       'v New Zealand Manchester', 'v England Pune',\n",
       "       'v Sri Lanka Guwahati', 'v Sri Lanka Thiruvananthapuram',\n",
       "       'v New Zealand Hyderabad', 'v New Zealand Raipur',\n",
       "       'v New Zealand Indore', 'v Pakistan Pallekele',\n",
       "       'v Nepal Pallekele', 'v Bangladesh Colombo (RPS)',\n",
       "       'v England Eden Gardens', 'v West Indies Tarouba',\n",
       "       'v South Africa Lucknow', 'v South Africa Ranchi',\n",
       "       'v South Africa Delhi', 'v New Zealand Christchurch',\n",
       "       'v Pakistan Centurion', 'v Australia Centurion',\n",
       "       'v West Indies Johannesburg', 'v Australia Vadodara',\n",
       "       'v Sri Lanka Rajkot', 'v Sri Lanka Nagpur', 'v Sri Lanka Delhi',\n",
       "       'v South Africa Jaipur', 'v South Africa Gwalior',\n",
       "       'v New Zealand Guwahati', 'v New Zealand Jaipur',\n",
       "       'v New Zealand Vadodara', 'v England Bengaluru',\n",
       "       'v Ireland Bengaluru', 'v Netherlands Delhi',\n",
       "       'v South Africa Nagpur', 'v Australia Ahmedabad',\n",
       "       'v Pakistan Mohali', 'v Sri Lanka Wankhede', 'v England Hyderabad',\n",
       "       'v England Delhi', 'v England Wankhede', 'v Pakistan Eden Gardens',\n",
       "       'v Pakistan Delhi', 'v England Kochi', 'v England Ranchi',\n",
       "       'v West Indies Delhi', 'v West Indies Dharamsala',\n",
       "       'v Sri Lanka Cuttack', 'v Sri Lanka Ahmedabad',\n",
       "       'v Sri Lanka Hyderabad', 'v Bangladesh Chattogram',\n",
       "       'v Afghanistan Dubai (DSC)', 'v Australia Guwahati'], dtype=object)"
      ]
     },
     "execution_count": 26,
     "metadata": {},
     "output_type": "execute_result"
    }
   ],
   "source": [
    "df['opposition'].unique()"
   ]
  },
  {
   "cell_type": "code",
   "execution_count": 27,
   "id": "a653e238",
   "metadata": {
    "scrolled": true
   },
   "outputs": [
    {
     "data": {
      "text/plain": [
       "array(['South Africa Centurion', 'South Africa Gqeberha',\n",
       "       'South Africa Durban', 'Ireland Belfast', \"England Lord's\",\n",
       "       'South Africa Melbourne', 'South Africa Sydney', 'England Sydney',\n",
       "       'India Melbourne', 'Australia Melbourne', 'England Hobart',\n",
       "       'New Zealand Auckland', 'Scotland Hobart', 'England Southampton',\n",
       "       'England Manchester', 'England Leeds', 'New Zealand Sydney',\n",
       "       'New Zealand Canberra', 'New Zealand Melbourne',\n",
       "       'Pakistan Brisbane', 'Pakistan Melbourne', 'Pakistan Perth',\n",
       "       'Pakistan Sydney', 'Pakistan Adelaide', 'New Zealand Hamilton',\n",
       "       'New Zealand Birmingham', 'Bangladesh The Oval',\n",
       "       'England Birmingham', 'India Chennai', 'Australia Chennai',\n",
       "       'India Eden Gardens', 'Australia Eden Gardens', 'India Indore',\n",
       "       'Australia Indore', 'India Bengaluru', 'Australia Bengaluru',\n",
       "       'India Nagpur', 'Australia Nagpur', 'England Melbourne',\n",
       "       'England Adelaide', 'South Africa Perth', 'South Africa Adelaide',\n",
       "       'South Africa Hobart', 'India Hyderabad', 'Australia Hyderabad',\n",
       "       'India Ranchi', 'Australia Ranchi', 'India Mohali',\n",
       "       'Australia Mohali', 'India Delhi', 'Australia Delhi',\n",
       "       'Pakistan Abu Dhabi', 'Afghanistan Bristol',\n",
       "       'West Indies Nottingham', 'India The Oval', 'Australia The Oval',\n",
       "       'Pakistan Taunton', 'Sri Lanka The Oval', 'Bangladesh Nottingham',\n",
       "       \"New Zealand Lord's\", 'South Africa Manchester', 'India Wankhede',\n",
       "       'Australia Wankhede', 'India Rajkot', 'Australia Rajkot',\n",
       "       'South Africa Paarl', 'South Africa Bloemfontein', 'India Sydney',\n",
       "       'Australia Sydney', 'Sri Lanka Pallekele',\n",
       "       'Sri Lanka Colombo (RPS)', 'West Indies Melbourne',\n",
       "       'England Cardiff', 'England The Oval', 'India Visakhapatnam',\n",
       "       'Australia Visakhapatnam', 'Sri Lanka Melbourne',\n",
       "       'Sri Lanka Sydney', 'Sri Lanka Brisbane', 'England Brisbane',\n",
       "       'Zimbabwe Ahmedabad', 'New Zealand Nagpur', 'Kenya Bengaluru',\n",
       "       'Canada Bengaluru', 'Pakistan Colombo (RPS)', 'Bangladesh Mirpur',\n",
       "       'Sri Lanka Hambantota', 'Sri Lanka Adelaide', 'England Perth',\n",
       "       'Zimbabwe Harare', 'South Africa Harare', 'Pakistan Sharjah',\n",
       "       'Pakistan Dubai (DSC)', 'South Africa Canberra',\n",
       "       'Afghanistan Perth', 'India Perth', 'Australia Perth',\n",
       "       'India Brisbane', 'Australia Brisbane', 'India Canberra',\n",
       "       'Australia Canberra', 'New Zealand Wellington',\n",
       "       'West Indies Providence', 'South Africa Providence',\n",
       "       'South Africa Basseterre', 'West Indies Basseterre',\n",
       "       'South Africa Bridgetown', 'West Indies Bridgetown',\n",
       "       'Ireland Benoni', 'South Africa Johannesburg',\n",
       "       'South Africa Cape Town', 'South Africa Potchefstroom',\n",
       "       'Zimbabwe Townsville', 'New Zealand Cairns',\n",
       "       'England Chester-le-Street', 'India Adelaide',\n",
       "       'Australia Adelaide', 'Pakistan Lahore', 'Sri Lanka Dambulla',\n",
       "       'England Nottingham', 'Afghanistan Sharjah', 'Sri Lanka Hobart',\n",
       "       'West Indies Perth', 'West Indies Canberra', 'West Indies Sydney',\n",
       "       'India Pune', 'Australia Pune', 'India Jaipur', 'Australia Jaipur',\n",
       "       'New Zealand Perth', 'Scotland Edinburgh', 'Sri Lanka Perth',\n",
       "       'West Indies Kingstown', 'West Indies Gros Islet',\n",
       "       'South Africa Belfast', 'Pakistan Jaipur', 'Sri Lanka Canberra',\n",
       "       'Pakistan Mirpur', 'Hong Kong Karachi', 'Pakistan Karachi',\n",
       "       'Bangladesh Karachi', 'Sri Lanka Karachi', 'England Rajkot',\n",
       "       'England Indore', 'England Kanpur', 'England Cuttack',\n",
       "       'West Indies Kingston', 'South Africa Ahmedabad',\n",
       "       'Zimbabwe Bulawayo', 'Sri Lanka Bulawayo', 'Sri Lanka Harare',\n",
       "       'Bangladesh Dambulla', 'Pakistan Dambulla', 'New Zealand Dambulla',\n",
       "       'New Zealand Bengaluru', 'New Zealand Chennai',\n",
       "       'West Indies Port of Spain', 'West Indies North Sound',\n",
       "       'West Indies Cuttack', 'West Indies Visakhapatnam',\n",
       "       'West Indies Ahmedabad', 'West Indies Indore',\n",
       "       'West Indies Chennai', 'Sri Lanka Mirpur', 'Pakistan Chennai',\n",
       "       'England Mohali', 'England Dharamsala', 'South Africa Cardiff',\n",
       "       'West Indies The Oval', 'Pakistan Birmingham', 'Sri Lanka Cardiff',\n",
       "       'Sri Lanka Kingston', 'Sri Lanka Port of Spain',\n",
       "       'West Indies Kochi', 'West Indies Kanpur', 'New Zealand Napier',\n",
       "       'Bangladesh Fatullah', 'Sri Lanka Fatullah', 'Afghanistan Mirpur',\n",
       "       'Sri Lanka Eden Gardens', 'Sri Lanka Ranchi', 'U.A.E. Perth',\n",
       "       'Ireland Hamilton', 'Zimbabwe Auckland', 'Bangladesh Melbourne',\n",
       "       'South Africa Kanpur', 'South Africa Indore',\n",
       "       'South Africa Rajkot', 'South Africa Chennai',\n",
       "       'South Africa Wankhede', 'New Zealand Dharamsala',\n",
       "       'New Zealand Delhi', 'New Zealand Mohali', 'New Zealand Ranchi',\n",
       "       'New Zealand Visakhapatnam', 'South Africa The Oval',\n",
       "       'Bangladesh Birmingham', 'Pakistan The Oval',\n",
       "       'New Zealand Wankhede', 'New Zealand Pune', 'New Zealand Kanpur',\n",
       "       'Sri Lanka Dharamsala', 'Sri Lanka Mohali',\n",
       "       'Sri Lanka Visakhapatnam', 'Hong Kong Dubai (DSC)',\n",
       "       'Bangladesh Dubai (DSC)', 'West Indies Guwahati',\n",
       "       'West Indies Pune', 'West Indies Brabourne',\n",
       "       'West Indies Thiruvananthapuram', 'New Zealand Mount Maunganui',\n",
       "       'South Africa Southampton', 'Pakistan Manchester',\n",
       "       'Afghanistan Southampton', 'West Indies Manchester',\n",
       "       'Sri Lanka Leeds', 'New Zealand Manchester', 'England Pune',\n",
       "       'Sri Lanka Guwahati', 'Sri Lanka Thiruvananthapuram',\n",
       "       'New Zealand Hyderabad', 'New Zealand Raipur',\n",
       "       'New Zealand Indore', 'Pakistan Pallekele', 'Nepal Pallekele',\n",
       "       'Bangladesh Colombo (RPS)', 'England Eden Gardens',\n",
       "       'West Indies Tarouba', 'South Africa Lucknow',\n",
       "       'South Africa Ranchi', 'South Africa Delhi',\n",
       "       'New Zealand Christchurch', 'Pakistan Centurion',\n",
       "       'Australia Centurion', 'West Indies Johannesburg',\n",
       "       'Australia Vadodara', 'Sri Lanka Rajkot', 'Sri Lanka Nagpur',\n",
       "       'Sri Lanka Delhi', 'South Africa Jaipur', 'South Africa Gwalior',\n",
       "       'New Zealand Guwahati', 'New Zealand Jaipur',\n",
       "       'New Zealand Vadodara', 'England Bengaluru', 'Ireland Bengaluru',\n",
       "       'Netherlands Delhi', 'South Africa Nagpur', 'Australia Ahmedabad',\n",
       "       'Pakistan Mohali', 'Sri Lanka Wankhede', 'England Hyderabad',\n",
       "       'England Delhi', 'England Wankhede', 'Pakistan Eden Gardens',\n",
       "       'Pakistan Delhi', 'England Kochi', 'England Ranchi',\n",
       "       'West Indies Delhi', 'West Indies Dharamsala', 'Sri Lanka Cuttack',\n",
       "       'Sri Lanka Ahmedabad', 'Sri Lanka Hyderabad',\n",
       "       'Bangladesh Chattogram', 'Afghanistan Dubai (DSC)',\n",
       "       'Australia Guwahati'], dtype=object)"
      ]
     },
     "execution_count": 27,
     "metadata": {},
     "output_type": "execute_result"
    }
   ],
   "source": [
    "# Replacing - data with 0\n",
    "df['opposition'] = df['opposition'].str.replace('v ','', regex=True)\n",
    "df['opposition'].unique()"
   ]
  },
  {
   "cell_type": "code",
   "execution_count": 28,
   "id": "26c772c9",
   "metadata": {},
   "outputs": [
    {
     "data": {
      "text/plain": [
       "player_id        False\n",
       "player_name      False\n",
       "runs_scored      False\n",
       "wickets          False\n",
       "runs_conceded    False\n",
       "catches          False\n",
       "stumpings        False\n",
       "opposition       False\n",
       "match_id         False\n",
       "Day              False\n",
       "Month            False\n",
       "Year             False\n",
       "Day              False\n",
       "Month            False\n",
       "Year             False\n",
       "dtype: bool"
      ]
     },
     "execution_count": 28,
     "metadata": {},
     "output_type": "execute_result"
    }
   ],
   "source": [
    "df.isnull().any()"
   ]
  },
  {
   "cell_type": "code",
   "execution_count": 29,
   "id": "ec0fc146",
   "metadata": {},
   "outputs": [],
   "source": [
    "df['runs_scored'] = df['runs_scored'].astype(str).astype(int) \n",
    "df['wickets'] = df['wickets'].astype(str).astype(int) \n",
    "df['runs_conceded'] = df['runs_conceded'].astype(str).astype(int) \n",
    "df['catches'] = df['catches'].astype(str).astype(int) \n",
    "df['stumpings'] = df['stumpings'].astype(str).astype(int)"
   ]
  },
  {
   "cell_type": "code",
   "execution_count": 30,
   "id": "d207bdbf",
   "metadata": {},
   "outputs": [
    {
     "name": "stdout",
     "output_type": "stream",
     "text": [
      "<class 'pandas.core.frame.DataFrame'>\n",
      "RangeIndex: 2575 entries, 0 to 2574\n",
      "Data columns (total 15 columns):\n",
      " #   Column         Non-Null Count  Dtype \n",
      "---  ------         --------------  ----- \n",
      " 0   player_id      2575 non-null   int64 \n",
      " 1   player_name    2575 non-null   object\n",
      " 2   runs_scored    2575 non-null   int32 \n",
      " 3   wickets        2575 non-null   int32 \n",
      " 4   runs_conceded  2575 non-null   int32 \n",
      " 5   catches        2575 non-null   int32 \n",
      " 6   stumpings      2575 non-null   int32 \n",
      " 7   opposition     2575 non-null   object\n",
      " 8   match_id       2575 non-null   int64 \n",
      " 9   Day            2575 non-null   int64 \n",
      " 10  Month          2575 non-null   int64 \n",
      " 11  Year           2575 non-null   int64 \n",
      " 12  Day            2575 non-null   int64 \n",
      " 13  Month          2575 non-null   int64 \n",
      " 14  Year           2575 non-null   int64 \n",
      "dtypes: int32(5), int64(8), object(2)\n",
      "memory usage: 251.6+ KB\n"
     ]
    }
   ],
   "source": [
    "df.info()"
   ]
  },
  {
   "cell_type": "code",
   "execution_count": 31,
   "id": "4a73dab5",
   "metadata": {},
   "outputs": [
    {
     "data": {
      "text/plain": [
       "(2575, 15)"
      ]
     },
     "execution_count": 31,
     "metadata": {},
     "output_type": "execute_result"
    }
   ],
   "source": [
    "df.shape"
   ]
  },
  {
   "cell_type": "code",
   "execution_count": 32,
   "id": "c90952d0",
   "metadata": {},
   "outputs": [
    {
     "data": {
      "text/html": [
       "<div>\n",
       "<style scoped>\n",
       "    .dataframe tbody tr th:only-of-type {\n",
       "        vertical-align: middle;\n",
       "    }\n",
       "\n",
       "    .dataframe tbody tr th {\n",
       "        vertical-align: top;\n",
       "    }\n",
       "\n",
       "    .dataframe thead th {\n",
       "        text-align: right;\n",
       "    }\n",
       "</style>\n",
       "<table border=\"1\" class=\"dataframe\">\n",
       "  <thead>\n",
       "    <tr style=\"text-align: right;\">\n",
       "      <th></th>\n",
       "      <th>player_id</th>\n",
       "      <th>runs_scored</th>\n",
       "      <th>wickets</th>\n",
       "      <th>runs_conceded</th>\n",
       "      <th>catches</th>\n",
       "      <th>stumpings</th>\n",
       "      <th>match_id</th>\n",
       "      <th>Day</th>\n",
       "      <th>Month</th>\n",
       "      <th>Year</th>\n",
       "      <th>...</th>\n",
       "      <th>opposition_West Indies Sydney</th>\n",
       "      <th>opposition_West Indies Tarouba</th>\n",
       "      <th>opposition_West Indies The Oval</th>\n",
       "      <th>opposition_West Indies Thiruvananthapuram</th>\n",
       "      <th>opposition_West Indies Visakhapatnam</th>\n",
       "      <th>opposition_Zimbabwe Ahmedabad</th>\n",
       "      <th>opposition_Zimbabwe Auckland</th>\n",
       "      <th>opposition_Zimbabwe Bulawayo</th>\n",
       "      <th>opposition_Zimbabwe Harare</th>\n",
       "      <th>opposition_Zimbabwe Townsville</th>\n",
       "    </tr>\n",
       "  </thead>\n",
       "  <tbody>\n",
       "    <tr>\n",
       "      <th>0</th>\n",
       "      <td>1</td>\n",
       "      <td>0</td>\n",
       "      <td>3</td>\n",
       "      <td>28</td>\n",
       "      <td>0</td>\n",
       "      <td>0</td>\n",
       "      <td>1</td>\n",
       "      <td>19</td>\n",
       "      <td>10</td>\n",
       "      <td>2011</td>\n",
       "      <td>...</td>\n",
       "      <td>0</td>\n",
       "      <td>0</td>\n",
       "      <td>0</td>\n",
       "      <td>0</td>\n",
       "      <td>0</td>\n",
       "      <td>0</td>\n",
       "      <td>0</td>\n",
       "      <td>0</td>\n",
       "      <td>0</td>\n",
       "      <td>0</td>\n",
       "    </tr>\n",
       "    <tr>\n",
       "      <th>1</th>\n",
       "      <td>2</td>\n",
       "      <td>0</td>\n",
       "      <td>0</td>\n",
       "      <td>0</td>\n",
       "      <td>0</td>\n",
       "      <td>0</td>\n",
       "      <td>1</td>\n",
       "      <td>19</td>\n",
       "      <td>10</td>\n",
       "      <td>2011</td>\n",
       "      <td>...</td>\n",
       "      <td>0</td>\n",
       "      <td>0</td>\n",
       "      <td>0</td>\n",
       "      <td>0</td>\n",
       "      <td>0</td>\n",
       "      <td>0</td>\n",
       "      <td>0</td>\n",
       "      <td>0</td>\n",
       "      <td>0</td>\n",
       "      <td>0</td>\n",
       "    </tr>\n",
       "    <tr>\n",
       "      <th>2</th>\n",
       "      <td>10</td>\n",
       "      <td>8</td>\n",
       "      <td>1</td>\n",
       "      <td>19</td>\n",
       "      <td>1</td>\n",
       "      <td>0</td>\n",
       "      <td>1</td>\n",
       "      <td>19</td>\n",
       "      <td>10</td>\n",
       "      <td>2011</td>\n",
       "      <td>...</td>\n",
       "      <td>0</td>\n",
       "      <td>0</td>\n",
       "      <td>0</td>\n",
       "      <td>0</td>\n",
       "      <td>0</td>\n",
       "      <td>0</td>\n",
       "      <td>0</td>\n",
       "      <td>0</td>\n",
       "      <td>0</td>\n",
       "      <td>0</td>\n",
       "    </tr>\n",
       "  </tbody>\n",
       "</table>\n",
       "<p>3 rows × 309 columns</p>\n",
       "</div>"
      ],
      "text/plain": [
       "   player_id  runs_scored  wickets  runs_conceded  catches  stumpings  \\\n",
       "0          1            0        3             28        0          0   \n",
       "1          2            0        0              0        0          0   \n",
       "2         10            8        1             19        1          0   \n",
       "\n",
       "   match_id  Day  Month  Year  ...  opposition_West Indies Sydney  \\\n",
       "0         1   19     10  2011  ...                              0   \n",
       "1         1   19     10  2011  ...                              0   \n",
       "2         1   19     10  2011  ...                              0   \n",
       "\n",
       "   opposition_West Indies Tarouba  opposition_West Indies The Oval  \\\n",
       "0                               0                                0   \n",
       "1                               0                                0   \n",
       "2                               0                                0   \n",
       "\n",
       "   opposition_West Indies Thiruvananthapuram  \\\n",
       "0                                          0   \n",
       "1                                          0   \n",
       "2                                          0   \n",
       "\n",
       "   opposition_West Indies Visakhapatnam  opposition_Zimbabwe Ahmedabad  \\\n",
       "0                                     0                              0   \n",
       "1                                     0                              0   \n",
       "2                                     0                              0   \n",
       "\n",
       "   opposition_Zimbabwe Auckland  opposition_Zimbabwe Bulawayo  \\\n",
       "0                             0                             0   \n",
       "1                             0                             0   \n",
       "2                             0                             0   \n",
       "\n",
       "   opposition_Zimbabwe Harare  opposition_Zimbabwe Townsville  \n",
       "0                           0                               0  \n",
       "1                           0                               0  \n",
       "2                           0                               0  \n",
       "\n",
       "[3 rows x 309 columns]"
      ]
     },
     "execution_count": 32,
     "metadata": {},
     "output_type": "execute_result"
    }
   ],
   "source": [
    "# One Hot Encoder\n",
    "\n",
    "# Convert categorical features using OHE\n",
    "df = pd.get_dummies(data=df, columns=['player_name', 'opposition'])\n",
    "\n",
    "df.head(3)"
   ]
  },
  {
   "cell_type": "code",
   "execution_count": 33,
   "id": "53ef3980",
   "metadata": {},
   "outputs": [
    {
     "data": {
      "text/plain": [
       "(2575, 309)"
      ]
     },
     "execution_count": 33,
     "metadata": {},
     "output_type": "execute_result"
    }
   ],
   "source": [
    "df.shape"
   ]
  },
  {
   "cell_type": "markdown",
   "id": "801cba55",
   "metadata": {},
   "source": [
    "Model Development"
   ]
  },
  {
   "cell_type": "code",
   "execution_count": null,
   "id": "a75f7038",
   "metadata": {},
   "outputs": [],
   "source": []
  },
  {
   "cell_type": "code",
   "execution_count": null,
   "id": "64d4f10c",
   "metadata": {},
   "outputs": [],
   "source": []
  },
  {
   "cell_type": "code",
   "execution_count": null,
   "id": "6378c568",
   "metadata": {},
   "outputs": [],
   "source": []
  },
  {
   "cell_type": "code",
   "execution_count": null,
   "id": "67af622b",
   "metadata": {},
   "outputs": [],
   "source": []
  }
 ],
 "metadata": {
  "kernelspec": {
   "display_name": "GPUenv",
   "language": "python",
   "name": "gpuenv"
  },
  "language_info": {
   "codemirror_mode": {
    "name": "ipython",
    "version": 3
   },
   "file_extension": ".py",
   "mimetype": "text/x-python",
   "name": "python",
   "nbconvert_exporter": "python",
   "pygments_lexer": "ipython3",
   "version": "3.8.11"
  }
 },
 "nbformat": 4,
 "nbformat_minor": 5
}
